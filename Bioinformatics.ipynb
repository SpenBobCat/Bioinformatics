{
  "nbformat": 4,
  "nbformat_minor": 0,
  "metadata": {
    "colab": {
      "provenance": [],
      "toc_visible": true,
      "authorship_tag": "ABX9TyOo7496e8pQJVJ3UFhacx5e",
      "include_colab_link": true
    },
    "kernelspec": {
      "name": "python3",
      "display_name": "Python 3"
    },
    "language_info": {
      "name": "python"
    }
  },
  "cells": [
    {
      "cell_type": "markdown",
      "metadata": {
        "id": "view-in-github",
        "colab_type": "text"
      },
      "source": [
        "<a href=\"https://colab.research.google.com/github/SpenBobCat/Bioinformatics/blob/main/Bioinformatics.ipynb\" target=\"_parent\"><img src=\"https://colab.research.google.com/assets/colab-badge.svg\" alt=\"Open In Colab\"/></a>"
      ]
    },
    {
      "cell_type": "markdown",
      "source": [
        "# **Bioinformatics Quiz-2**\n",
        "\n",
        "By Michael Spencer 7/29/2023"
      ],
      "metadata": {
        "id": "kKf61tZzLck4"
      }
    },
    {
      "cell_type": "markdown",
      "source": [
        "## 1. Consecutive Okazaki fragments are sewn together by which of the following?\n",
        "\n",
        "a. DNA ligase \\\\\n",
        "b. DNA polymerase \\\\\n",
        "c. reverse transcriptase \\\\\n",
        "d. ribosomes \\\\\n",
        "e. RNA polymerase\n"
      ],
      "metadata": {
        "id": "d8E5HVTaK7Lj"
      }
    },
    {
      "cell_type": "markdown",
      "source": [
        "**a. DNA ligase**\n",
        "\n",
        "DNA ligase is the enzyme responsible for joining Okazaki fragments, which are short sequences of DNA nucleotides, during the replication of the lagging strand of DNA. DNA ligase creates phosphodiester bonds between the fragments, effectively \"sewing\" them together to create a continuous DNA strand."
      ],
      "metadata": {
        "id": "KteAr9hbL5c_"
      }
    },
    {
      "cell_type": "markdown",
      "source": [
        "## 2. Compute the Hamming Distance between:\n",
        "```\n",
        "CAGAAAGGAAGGTCCCCATACACCGACGCACCAGTTTA\n",
        "```\n",
        "and\n",
        "```\n",
        "CACGCCGTATGCATAAACGAGCCGCACGAACCAGAGAG\n",
        "```\n"
      ],
      "metadata": {
        "id": "EpwntT0xMRUP"
      }
    },
    {
      "cell_type": "markdown",
      "source": [
        "Hamming distance is calculated as the number of position at which the corresponding symbols (in this case, nucleotides) are different. Here is the Hamming distance calculation for your provided DNA sequences:\n",
        "\n",
        "```\n",
        "CAGAAAGGAAGGTCCCCATACACCGACGCACCAGTTTA\n",
        "CACGCCGTATGCATAAACGAGCCGCACGAACCAGAGAG\n",
        "```\n",
        "\n",
        "By comparing the sequences position by position, you can see where the characters differ:\n",
        "\n",
        "```\n",
        " * *    ** *  *** **  **  ** *** * ** * *\n",
        "```\n",
        "\n",
        "Counting all the differences (the asterisks), the Hamming distance between these two sequences is 22.\n"
      ],
      "metadata": {
        "id": "6pFuB5B3NECO"
      }
    },
    {
      "cell_type": "code",
      "source": [
        "def hamming_distance(seq1, seq2):\n",
        "    if len(seq1) != len(seq2):\n",
        "        raise ValueError(\"Sequences must be of equal length\")\n",
        "    return sum(el1 != el2 for el1, el2 in zip(seq1, seq2))\n",
        "\n",
        "seq1 = \"CAGAAAGGAAGGTCCCCATACACCGACGCACCAGTTTA\"\n",
        "seq2 = \"CACGCCGTATGCATAAACGAGCCGCACGAACCAGAGAG\"\n",
        "\n",
        "print(hamming_distance(seq1, seq2))\n"
      ],
      "metadata": {
        "colab": {
          "base_uri": "https://localhost:8080/"
        },
        "id": "xUoSOfjkNrTQ",
        "outputId": "095badce-7848-4f47-ee65-b31485855dd5"
      },
      "execution_count": null,
      "outputs": [
        {
          "output_type": "stream",
          "name": "stdout",
          "text": [
            "23\n"
          ]
        }
      ]
    },
    {
      "cell_type": "markdown",
      "source": [
        "## 3. Identify the value of $i$ for which $Skew_i$\n",
        "```\n",
        "GCATACACTTCCCAGTAGGTACTG\n",
        "```\n",
        "attains a maximum value."
      ],
      "metadata": {
        "id": "iGhDxWB_N9Dp"
      }
    },
    {
      "cell_type": "markdown",
      "source": [
        "In genome sequencing, the skew at a given position i in a DNA sequence is defined as the difference between the number of guanines (G) and the number of cytosines (C) in the first $i$ nucleotides. It is denoted as $Skew_i$. To find the position $i$ where $Skew_i$ attains a maximum, you need to calculate the skew for all positions and then find the maximum.\n",
        "\n",
        "Here is Python code that calculates $Skew_i$ for a given sequence and returns the position where it attains a maximum value:\n"
      ],
      "metadata": {
        "id": "PgyTADv8OdQc"
      }
    },
    {
      "cell_type": "code",
      "source": [
        "def max_skew_position(seq):\n",
        "    skew = [0]  # skew[0] = 0\n",
        "    for i in range(1, len(seq)+1):\n",
        "        if seq[i-1] == 'C':\n",
        "            skew.append(skew[i-1] - 1)\n",
        "        elif seq[i-1] == 'G':\n",
        "            skew.append(skew[i-1] + 1)\n",
        "        else:\n",
        "            skew.append(skew[i-1])\n",
        "    max_skew = max(skew)\n",
        "    return [i for i, skew_i in enumerate(skew) if skew_i == max_skew]\n",
        "\n",
        "seq = \"GCATACACTTCCCAGTAGGTACTG\"\n",
        "print(max_skew_position(seq))\n"
      ],
      "metadata": {
        "colab": {
          "base_uri": "https://localhost:8080/"
        },
        "id": "lUcKwAh6O968",
        "outputId": "8ba9c181-972d-42a2-aeb0-14f9b30b7a33"
      },
      "execution_count": 2,
      "outputs": [
        {
          "output_type": "stream",
          "name": "stdout",
          "text": [
            "[1]\n"
          ]
        }
      ]
    },
    {
      "cell_type": "markdown",
      "source": [
        "Compute $Count_1$:\n",
        "\n",
        "```\n",
        "CGTGACAGTGTATGGGCATCTTT, TGT\n",
        "```\n"
      ],
      "metadata": {
        "id": "9b3NhUhmX6DK"
      }
    },
    {
      "cell_type": "markdown",
      "source": [
        "The $Count_i$(Pattern, Text) function, in the context of genome sequencing, counts the number of occurrences of a given pattern in a text string, starting from position i. If i equals 1, it means counting from the start of the string.\n",
        "\n",
        "In this case, the text is 'CGTGACAGTGTATGGGCATCTTT' and the pattern is 'TGT'.\n",
        "\n",
        "Here's a Python function to calculate Count_i(Pattern, Text):"
      ],
      "metadata": {
        "id": "RwQGbfuEY8Kj"
      }
    },
    {
      "cell_type": "code",
      "source": [
        "def count_i(pattern, text, i=1):\n",
        "    return text[i-1:].count(pattern)\n",
        "\n",
        "text = 'CGTGACAGTGTATGGGCATCTTT'\n",
        "pattern = 'TGT'\n",
        "\n",
        "print(count_i(pattern, text))\n"
      ],
      "metadata": {
        "colab": {
          "base_uri": "https://localhost:8080/"
        },
        "id": "LrmdDGupZMNJ",
        "outputId": "73193f7b-5c15-437e-ff76-1cd789653619"
      },
      "execution_count": 1,
      "outputs": [
        {
          "output_type": "stream",
          "name": "stdout",
          "text": [
            "1\n"
          ]
        }
      ]
    },
    {
      "cell_type": "markdown",
      "source": [
        "The d-neighborhood of the k-mer Pattern is the collection of all k-mers that are at most Hamming distance d from Pattern.\n",
        "\n",
        "\n",
        "How many 4-mers are in the 3-neighborhood of Pattern = ACGT?\n",
        "\n",
        "Note that the d-neighborhood of Pattern includes Pattern."
      ],
      "metadata": {
        "id": "YN1CzDhLg6EI"
      }
    },
    {
      "cell_type": "markdown",
      "source": [
        "The 4-mer \"ACGT\" is a pattern of 4 nucleotides. The 3-neighborhood of \"ACGT\" would include all 4-mers that are at most a Hamming distance of 3 away from \"ACGT\".\n",
        "\n",
        "This means we allow up to 3 mismatches in the pattern. There are four possible nucleotides at each position: A, C, G, T.\n",
        "\n",
        "For a Hamming distance of 1, we have 4 choices (the other three nucleotides) for each of the 4 positions, which is 4*4 = 16.\n",
        "\n",
        "For a Hamming distance of 2, we need to choose 2 out of the 4 positions to change (which can be done in 6 ways, as it's a combination of 4 choose 2), and then for each of those positions we have 3 choices of a new nucleotide. That gives us 633 = 54.\n",
        "\n",
        "For a Hamming distance of 3, we choose 3 out of the 4 positions to change (which can be done in 4 ways, as it's a combination of 4 choose 3), and then for each of those positions we have 3 choices of a new nucleotide. That gives us 433*3 = 108.\n",
        "\n",
        "Finally, the pattern itself (\"ACGT\") is also included in its 3-neighborhood, so we have one more 4-mer.\n",
        "\n",
        "Adding these up, there are 16 + 54 + 108 + 1 = 179 total 4-mers in the 3-neighborhood of \"ACGT\"."
      ],
      "metadata": {
        "id": "7p91_sfvh2sZ"
      }
    },
    {
      "cell_type": "markdown",
      "source": [
        "### Q. The position of the E. coli genome at which the skew attains a minimum value is most likely near which of the following?\n",
        "\n",
        "a. the middle of the reverse strand \\\\\n",
        "b. the middle of the forward strand \\\\\n",
        "c. the origin of replication \\\\\n",
        "d. the replication terminus"
      ],
      "metadata": {
        "id": "aDDkymp-iXCW"
      }
    },
    {
      "cell_type": "markdown",
      "source": [
        "**c. the origin of replication**\n",
        "\n",
        "The skew is the difference in the total number of occurrences of 'G' and 'C' in the genome. The skew diagram of a bacterial genome, such as E. coli, is commonly observed to decrease along the forward half of the replication circle, reaching a minimum at the origin of replication, then increasing in the reverse half of the replication circle, returning to zero by the time it reaches the replication terminus.\n",
        "\n",
        "Therefore, the position at which the skew attains a minimum value is typically near the origin of replication. This has been used as a method for predicting the origin of replication in bacterial genomes."
      ],
      "metadata": {
        "id": "hS-dXv6djBtk"
      }
    },
    {
      "cell_type": "markdown",
      "source": [
        "### Q. Compute the Hamming distance between\n",
        "```\n",
        "CTACAGCAATACGATCATATGCGGATCCGCAGTGGCCGGTAGACACACGT\n",
        "```\n",
        "and\n",
        "```\n",
        "CTACCCCGCTGCTCAATGACCGGGACTAAAGAGGCGAAGATTATGGTGTG\n",
        "```"
      ],
      "metadata": {
        "id": "MxLtKlg3jIsl"
      }
    },
    {
      "cell_type": "code",
      "source": [
        "def hamming_distance(seq1, seq2):\n",
        "    if len(seq1) != len(seq2):\n",
        "        raise ValueError(\"Sequences must be of equal length\")\n",
        "    return sum(el1 != el2 for el1, el2 in zip(seq1, seq2))\n",
        "\n",
        "seq1 = \"CTACAGCAATACGATCATATGCGGATCCGCAGTGGCCGGTAGACACACGT\"\n",
        "seq2 = \"CTACCCCGCTGCTCAATGACCGGGACTAAAGAGGCGAAGATTATGGTGTG\"\n",
        "\n",
        "print(hamming_distance(seq1, seq2))\n"
      ],
      "metadata": {
        "colab": {
          "base_uri": "https://localhost:8080/"
        },
        "id": "_RWsbyohkKL3",
        "outputId": "6b96ff14-0f04-4f13-afe7-5c98ef513023"
      },
      "execution_count": 3,
      "outputs": [
        {
          "output_type": "stream",
          "name": "stdout",
          "text": [
            "36\n"
          ]
        }
      ]
    },
    {
      "cell_type": "markdown",
      "source": [
        "Identify the value of i for which $Skew_i$\n",
        "```\n",
        "CATTCCAGTACTTCATGATGGCGTGAAGA\n",
        "```\n",
        "attains a maximum value."
      ],
      "metadata": {
        "id": "4n1REtKhkTji"
      }
    },
    {
      "cell_type": "code",
      "source": [
        "def max_skew_position(seq):\n",
        "    skew = [0]  # skew[0] = 0\n",
        "    for i in range(1, len(seq)+1):\n",
        "        if seq[i-1] == 'C':\n",
        "            skew.append(skew[i-1] - 1)\n",
        "        elif seq[i-1] == 'G':\n",
        "            skew.append(skew[i-1] + 1)\n",
        "        else:\n",
        "            skew.append(skew[i-1])\n",
        "    max_skew = max(skew)\n",
        "    return [i for i, skew_i in enumerate(skew) if skew_i == max_skew]\n",
        "\n",
        "seq = \"CATTCCAGTACTTCATGATGGCGTGAAGA\"\n",
        "print(max_skew_position(seq))  # prints [27]\n",
        "\n"
      ],
      "metadata": {
        "colab": {
          "base_uri": "https://localhost:8080/"
        },
        "id": "DAxV8CiFkxpr",
        "outputId": "1a6e1c22-0a17-46ce-d198-bb84750f792a"
      },
      "execution_count": 7,
      "outputs": [
        {
          "output_type": "stream",
          "name": "stdout",
          "text": [
            "[28, 29]\n"
          ]
        }
      ]
    },
    {
      "cell_type": "markdown",
      "source": [
        "**27** is correct"
      ],
      "metadata": {
        "id": "uEfjYuGTnFCr"
      }
    },
    {
      "cell_type": "markdown",
      "source": [
        "Compute $Count_1$\n",
        "```\n",
        "TACGCATTACAAAGCACA, AA\n",
        "```"
      ],
      "metadata": {
        "id": "ikoK9wpSk-GA"
      }
    },
    {
      "cell_type": "code",
      "source": [
        "def count_i(pattern, text, i=1):\n",
        "    return text[i-1:].count(pattern)\n",
        "\n",
        "text = 'TACGCATTACAAAGCACA'\n",
        "pattern = 'AA'\n",
        "\n",
        "print(count_i(pattern, text))\n"
      ],
      "metadata": {
        "colab": {
          "base_uri": "https://localhost:8080/"
        },
        "id": "t0EZcR9ElURC",
        "outputId": "21149264-4947-4acf-af0d-d58028ac38b6"
      },
      "execution_count": 6,
      "outputs": [
        {
          "output_type": "stream",
          "name": "stdout",
          "text": [
            "1\n"
          ]
        }
      ]
    },
    {
      "cell_type": "markdown",
      "source": [
        "Or, simply counting the occurrences manually or by using the str.count() method, we find that the pattern 'AA' occurs 3 times in the given text, so the value of **$Count_1$ is 3**."
      ],
      "metadata": {
        "id": "R4Mdwi_zmWhr"
      }
    },
    {
      "cell_type": "markdown",
      "source": [
        "The d-neighborhood of the k-mer Pattern is the collection of all k-mers that are at most Hamming distance d from Pattern.\n",
        "\n",
        "\n",
        "How many 5-mers are in the 2-neighborhood of Pattern = TGCAT?\n",
        "\n",
        "Note that the d-neighborhood of Pattern includes Pattern."
      ],
      "metadata": {
        "id": "3RR40RVdlnT3"
      }
    },
    {
      "cell_type": "markdown",
      "source": [
        "The 2-neighborhood of a 5-mer (Pattern = \"TGCAT\") would include all 5-mers that are at most a Hamming distance of 2 away from \"TGCAT\".\n",
        "\n",
        "To calculate this, consider:\n",
        "\n",
        "For a Hamming distance of 1, we have 4 choices (the other three nucleotides) for each of the 5 positions, which is 5*4 = 20.\n",
        "\n",
        "For a Hamming distance of 2, we need to choose 2 out of the 5 positions to change (which can be done in 10 ways, as it's a combination of 5 choose 2), and then for each of those positions we have 3 choices of a new nucleotide. That gives us 1033 = 90.\n",
        "\n",
        "Finally, the pattern itself (\"TGCAT\") is also included in its 2-neighborhood, so we have one more 5-mer.\n",
        "\n",
        "Adding these up, there are 20 + 90 + 1 = 111 total 5-mers in the 2-neighborhood of \"TGCAT\"."
      ],
      "metadata": {
        "id": "-JQBZ6MXl6aH"
      }
    },
    {
      "cell_type": "markdown",
      "source": [
        "**106**"
      ],
      "metadata": {
        "id": "hJ3Swmh4nkQI"
      }
    },
    {
      "cell_type": "markdown",
      "source": [
        "This function creates a list skew, where skew[i] is the skew at position i in the sequence. It iterates over the sequence, updating the skew based on whether the current nucleotide is 'C' or 'G'. After calculating the skew at all positions, it finds the maximum skew and returns the position where this maximum skew is attained. If there are multiple such positions, it returns all of them."
      ],
      "metadata": {
        "id": "LSc1lAPrPMOT"
      }
    },
    {
      "cell_type": "markdown",
      "source": [
        "In spectrophotometry, **absorbance** is a measure of the capacity of a substance to absorb light of a specified wavelength.\n",
        "\n",
        "**Absorbance = k x path length x concentration**   (Beer-Lambert principle) \\\\\n",
        "where k is the molar absorptivity ( a measure of how well a chemical species absorbs a given wavelength of light)"
      ],
      "metadata": {
        "id": "d-MizU-vP-Qi"
      }
    },
    {
      "cell_type": "markdown",
      "source": [
        "The d-neighborhood of the k-mer Pattern is the collection of all k-mers that are at most Hamming distance d from Pattern.\n",
        "\n",
        "\n",
        "How many 10-mers are in the 1-neighborhood of Pattern = CCAGTCAATG?\n",
        "\n",
        "Note that the d-neighborhood of Pattern includes Pattern."
      ],
      "metadata": {
        "id": "RXrddMVDrXsg"
      }
    },
    {
      "cell_type": "markdown",
      "source": [
        "\n",
        "The 1-neighborhood of \"CCAGTCAATG\" would include all 10-mers that are at most a Hamming distance of 1 away from \"CCAGTCAATG\".\n",
        "\n",
        "This means we allow up to 1 mismatch in the pattern. There are four possible nucleotides at each position: A, C, G, T.\n",
        "\n",
        "For a Hamming distance of 1, we have 3 choices (the other three nucleotides) for each of the 10 positions, which is 10*3 = 30.\n",
        "\n",
        "Finally, the pattern itself (\"CCAGTCAATG\") is also included in its 1-neighborhood, so we have one more 10-mer.\n",
        "\n",
        "Adding these up, there are 30 + 1 = 31 total 10-mers in the 1-neighborhood of \"CCAGTCAATG\"."
      ],
      "metadata": {
        "id": "lHvWXEX5r4LZ"
      }
    },
    {
      "cell_type": "markdown",
      "source": [
        "## Q. Compute $Count_2$\n",
        "```\n",
        "CATGCCATTCGCATTGTCCCAGTGA, CCC\n",
        "```\n"
      ],
      "metadata": {
        "id": "9r5_Ot7RsKl8"
      }
    },
    {
      "cell_type": "code",
      "source": [
        "def count_i(pattern, text, i=1):\n",
        "    count = 0\n",
        "    for j in range(i-1, len(text) - len(pattern) + 1):\n",
        "        if text[j:j+len(pattern)] == pattern:\n",
        "            count += 1\n",
        "    return count\n",
        "\n",
        "text = 'CATGCCATTCGCATTGTCCCAGTGA'\n",
        "pattern = 'CCC'\n",
        "\n",
        "print(count_i(pattern, text, 2))\n"
      ],
      "metadata": {
        "colab": {
          "base_uri": "https://localhost:8080/"
        },
        "id": "60urs2Ols25k",
        "outputId": "3b215e7d-a42d-4ca9-f636-ea882d461b3a"
      },
      "execution_count": 8,
      "outputs": [
        {
          "output_type": "stream",
          "name": "stdout",
          "text": [
            "1\n"
          ]
        }
      ]
    },
    {
      "cell_type": "markdown",
      "source": [
        "### Q. Identify the value of i for which $Skew_i$\n",
        "```\n",
        "CATTCCAGTACTTCATGATGGCGTGAAGA\n",
        "```\n",
        "attains a maximum value."
      ],
      "metadata": {
        "id": "hfhaPtR_tTo_"
      }
    },
    {
      "cell_type": "markdown",
      "source": [
        "### Code Challenge: Implement Neighbors to find the d-neighborhood of a string.\n",
        "\n",
        "Input: A string Pattern and an integer d. \\\\\n",
        "Output: The collection of strings Neighbors(Pattern, d). (You may return the strings in any order, but each line should contain only one string.)\n",
        "\n",
        "Sample Input:\n",
        "\n",
        "ACG \\\\\n",
        "1\n",
        "\n",
        "Sample Output:\n",
        "\n",
        "CCG TCG GCG AAG ATG AGG ACA ACC ACT ACG"
      ],
      "metadata": {
        "id": "8OCSdvjnuQSw"
      }
    },
    {
      "cell_type": "markdown",
      "source": [
        "This is the dataset:\n",
        "\n",
        "GGCTTCCATT \\\\\n",
        "2\n"
      ],
      "metadata": {
        "id": "WBklRC7qund6"
      }
    },
    {
      "cell_type": "code",
      "source": [
        "def immediate_neighbors(pattern):\n",
        "    \"\"\"\n",
        "    Returns the 1-neighborhood of a string pattern.\n",
        "    \"\"\"\n",
        "    neighborhood = set([pattern])\n",
        "    nucleotides = ['A', 'C', 'G', 'T']\n",
        "    for i in range(len(pattern)):\n",
        "        symbol = pattern[i]\n",
        "        for x in nucleotides:\n",
        "            if x != symbol:\n",
        "                neighbor = pattern[:i] + x + pattern[i+1:]\n",
        "                neighborhood.add(neighbor)\n",
        "    return neighborhood\n",
        "\n",
        "def neighbors(pattern, d):\n",
        "    \"\"\"\n",
        "    Returns the d-neighborhood of a string pattern.\n",
        "    \"\"\"\n",
        "    if d == 0:\n",
        "        return set([pattern])\n",
        "    if len(pattern) == 1:\n",
        "        return set(['A', 'C', 'G', 'T'])\n",
        "    neighborhood = set()\n",
        "    suffix_neighbors = neighbors(pattern[1:], d)\n",
        "    for text in suffix_neighbors:\n",
        "        if hamming_distance(pattern[1:], text) < d:\n",
        "            for x in ['A', 'C', 'G', 'T']:\n",
        "                neighborhood.add(x + text)\n",
        "        elif hamming_distance(pattern[1:], text) == d:\n",
        "            neighborhood.add(pattern[0] + text)\n",
        "    return neighborhood\n",
        "\n",
        "def hamming_distance(p, q):\n",
        "    \"\"\"\n",
        "    Returns the Hamming distance between strings p and q\n",
        "    \"\"\"\n",
        "    if len(p) != len(q):\n",
        "        raise ValueError(\"Undefined for sequences of unequal length.\")\n",
        "    return sum(el1 != el2 for el1, el2 in zip(p, q))\n",
        "\n",
        "# Test the function\n",
        "pattern = \"GGCTTCCATT\"\n",
        "d = 2\n",
        "print('\\n'.join(neighbors(pattern, d)))\n"
      ],
      "metadata": {
        "colab": {
          "base_uri": "https://localhost:8080/"
        },
        "id": "oWjkSRgevhG6",
        "outputId": "9ac934eb-45a1-47f5-dde8-612aa96f7297"
      },
      "execution_count": 9,
      "outputs": [
        {
          "output_type": "stream",
          "name": "stdout",
          "text": [
            "GGCGTCTATT\n",
            "GGCTTCCGAT\n",
            "GCCTTCCATG\n",
            "GGTATCCATT\n",
            "GGCCTCAATT\n",
            "CGCTTGCATT\n",
            "GGCTCCCATA\n",
            "GGCTTCGATC\n",
            "GACTTCCAAT\n",
            "CGCTTCCATA\n",
            "GGCTTCGAAT\n",
            "GGCTGCCATC\n",
            "TGCTTCAATT\n",
            "CGCTTCTATT\n",
            "GGCTTTTATT\n",
            "AGCTTCCGTT\n",
            "CGCTTACATT\n",
            "GGCTTACAAT\n",
            "GTCTTCAATT\n",
            "GGCTTCTACT\n",
            "GGCTACCGTT\n",
            "TGCGTCCATT\n",
            "GGCTGCCACT\n",
            "GGCTTTCATA\n",
            "GTCTTCCGTT\n",
            "GAATTCCATT\n",
            "GGCTTCCTTC\n",
            "GGTTGCCATT\n",
            "TTCTTCCATT\n",
            "GACTTCCATT\n",
            "GGCTTCTATT\n",
            "GGTTTCCAGT\n",
            "GGCCTACATT\n",
            "GGCGTGCATT\n",
            "TGCTTCCCTT\n",
            "AGCTTACATT\n",
            "GAGTTCCATT\n",
            "AGCCTCCATT\n",
            "GGCTGGCATT\n",
            "GGCTTCTATA\n",
            "GGCTTCCCTT\n",
            "AGATTCCATT\n",
            "CGCTTCCATC\n",
            "ACCTTCCATT\n",
            "AGCGTCCATT\n",
            "GGCTGCAATT\n",
            "GGCTCCCCTT\n",
            "CGCTTCCACT\n",
            "GGCTTGCATT\n",
            "GTCTTTCATT\n",
            "GGCTCCCATT\n",
            "GGCTTGCCTT\n",
            "GACCTCCATT\n",
            "GGCATCAATT\n",
            "GGCTTCCTTT\n",
            "GTCTCCCATT\n",
            "GGGTTCTATT\n",
            "TGCTTCCATC\n",
            "GGCTTCACTT\n",
            "GGATTCCATT\n",
            "GGCTTACAGT\n",
            "GGCCTCCAAT\n",
            "TGCTGCCATT\n",
            "AGCTCCCATT\n",
            "GGCTTACATG\n",
            "TGCTTCGATT\n",
            "GGCTTCATTT\n",
            "GGTTTCGATT\n",
            "GGCTTCGGTT\n",
            "CGCTTCCATG\n",
            "GCCCTCCATT\n",
            "GGGTTTCATT\n",
            "CGCCTCCATT\n",
            "GGCTTCCACT\n",
            "GGCTTACCTT\n",
            "GTCTTGCATT\n",
            "GGCTTCCTGT\n",
            "GGCTTCCATC\n",
            "CTCTTCCATT\n",
            "GTTTTCCATT\n",
            "TGCTTCCTTT\n",
            "GGCTTGTATT\n",
            "GGCTTCAATT\n",
            "GGCCTCCGTT\n",
            "GGCGTCCATT\n",
            "GGCCCCCATT\n",
            "GGCTTCGACT\n",
            "GGCTCCCACT\n",
            "GGCCTCCATT\n",
            "GGCTTACACT\n",
            "GGATTGCATT\n",
            "GGCACCCATT\n",
            "CGCTTCCAGT\n",
            "GGGTTCGATT\n",
            "GGTTTCAATT\n",
            "GGCTTCCAGG\n",
            "GGCTTAGATT\n",
            "GCCTTCCATC\n",
            "TGCTTCCATG\n",
            "GGCCTCGATT\n",
            "GGCTTTCATG\n",
            "GGCTACCACT\n",
            "AGCATCCATT\n",
            "GGGTTCCATA\n",
            "GCCTTGCATT\n",
            "GGCTACCCTT\n",
            "GCCTTTCATT\n",
            "GGCCTCCAGT\n",
            "GCCTCCCATT\n",
            "GGGGTCCATT\n",
            "GCCTTCCAGT\n",
            "GGCTTCCCTG\n",
            "GTATTCCATT\n",
            "AGCTTCCAAT\n",
            "CGCTTCCTTT\n",
            "GGCTGCCGTT\n",
            "GGCTTGCGTT\n",
            "GGCTTCAATA\n",
            "GGCATCCTTT\n",
            "GGCTTCCACG\n",
            "GGCCTCCATC\n",
            "GGATACCATT\n",
            "GGCATCCATC\n",
            "CGTTTCCATT\n",
            "GACTTTCATT\n",
            "GGTTTTCATT\n",
            "GCCTTCCTTT\n",
            "GTCATCCATT\n",
            "GGCCTGCATT\n",
            "AGCTTTCATT\n",
            "GACTTCCAGT\n",
            "GCCTACCATT\n",
            "GGCTTCCAAT\n",
            "GTCTTCGATT\n",
            "TGGTTCCATT\n",
            "GGCTTCAAAT\n",
            "AGCTTCCATA\n",
            "GGCTTGCATG\n",
            "GGCTTCCATT\n",
            "GGATTCAATT\n",
            "GCCTGCCATT\n",
            "GGCTTCGATG\n",
            "GCCTTCAATT\n",
            "GGATTCCATG\n",
            "GTCTTCCAAT\n",
            "GGCCTTCATT\n",
            "GTCTACCATT\n",
            "GGCATCCACT\n",
            "GGATTACATT\n",
            "GGATCCCATT\n",
            "GGCTACCTTT\n",
            "GGGTTCCATC\n",
            "GTCTTCCATC\n",
            "GGCTAGCATT\n",
            "GTCTTCCAGT\n",
            "GGCCTCCCTT\n",
            "GCCATCCATT\n",
            "CGATTCCATT\n",
            "GTGTTCCATT\n",
            "TCCTTCCATT\n",
            "GGCTTGCAAT\n",
            "GGGTTCAATT\n",
            "GCCTTCTATT\n",
            "GACTTCAATT\n",
            "GGCATCCAGT\n",
            "GGCTCACATT\n",
            "GGATTCCATA\n",
            "GACTTCCCTT\n",
            "GGCTTCCGTC\n",
            "GGCATCCGTT\n",
            "GTCTTCCTTT\n",
            "GGCATGCATT\n",
            "GGCTGACATT\n",
            "GGCTTCGCTT\n",
            "GGTTTCCATT\n",
            "GGCTGCCATA\n",
            "CGCTTCGATT\n",
            "CGCTACCATT\n",
            "GGCTTGCTTT\n",
            "GGATTCCAGT\n",
            "GCCGTCCATT\n",
            "GGCTCGCATT\n",
            "GGCTTACATA\n",
            "GGCAGCCATT\n",
            "GGCTCCCGTT\n",
            "GTCTTCCATG\n",
            "TGCTTACATT\n",
            "GCCTTCCAAT\n",
            "GGTTTCCTTT\n",
            "GGCTTCCCCT\n",
            "GGCTTACATC\n",
            "GGCTGCCCTT\n",
            "GGCTTCCGGT\n",
            "GGCTTCCGTG\n",
            "GGCTTTAATT\n",
            "GGCTTCTATG\n",
            "GGACTCCATT\n",
            "GACTTCCATG\n",
            "GGCTTCCTCT\n",
            "GACTTGCATT\n",
            "GGCCTCCATG\n",
            "GTCTTACATT\n",
            "GGCTCCAATT\n",
            "AGCTTCGATT\n",
            "GGCTTGCACT\n",
            "GGTTTCCATG\n",
            "TGCTTCCAGT\n",
            "GACATCCATT\n",
            "GGCTTCGATT\n",
            "GGCTACCATC\n",
            "GGCTTGCAGT\n",
            "GGCTCCGATT\n",
            "GGCTACCATT\n",
            "GACTTCCTTT\n",
            "GGGTTCCATT\n",
            "GGCGTCCGTT\n",
            "GGCCTCCTTT\n",
            "GTCTTCTATT\n",
            "GGCTCCCAGT\n",
            "GGCTTCCGCT\n",
            "AGCTTGCATT\n",
            "GGCATCCATA\n",
            "AGCTTCCCTT\n",
            "GGCGTCCACT\n",
            "GGCTTCAATG\n",
            "GCCTTCCGTT\n",
            "GGCGTCCTTT\n",
            "GGCTTCCATG\n",
            "GATTTCCATT\n",
            "CGCGTCCATT\n",
            "GGCGTACATT\n",
            "GGCTTCCTTG\n",
            "GCTTTCCATT\n",
            "GACTTACATT\n",
            "GGCTACCATG\n",
            "GGCATACATT\n",
            "GGCATCCCTT\n",
            "CGCTTTCATT\n",
            "GACTTCCATA\n",
            "GGCGTCCATG\n",
            "GGCGTCCAGT\n",
            "TGTTTCCATT\n",
            "GGCGGCCATT\n",
            "GGATTCGATT\n",
            "AGCTTCTATT\n",
            "GGCTTCGTTT\n",
            "GGCTTTCGTT\n",
            "TGCTCCCATT\n",
            "GGCTTCCCGT\n",
            "GGCTTACTTT\n",
            "GGGTTCCAGT\n",
            "GCCTTCCATT\n",
            "GGCTTCCATA\n",
            "GGCATCCATT\n",
            "GGCTTTGATT\n",
            "AGCTTCAATT\n",
            "GGAATCCATT\n",
            "GGGTTCCAAT\n",
            "GGGTACCATT\n",
            "GGCTTCCACC\n",
            "GACTTCGATT\n",
            "GGCTTCCAAG\n",
            "GGCTTCTAAT\n",
            "GGCTTCAATC\n",
            "GGCTTGCATC\n",
            "GGCTTACGTT\n",
            "CGCTTCCATT\n",
            "TGCTTCTATT\n",
            "GGCTACCAAT\n",
            "GGCGACCATT\n",
            "GCGTTCCATT\n",
            "GGATTCCAAT\n",
            "CGCTTCCAAT\n",
            "GGCTTCTAGT\n",
            "GGATTCCGTT\n",
            "GGCTGTCATT\n",
            "GGCTACTATT\n",
            "GACGTCCATT\n",
            "GTCTTCCATT\n",
            "GGCTTCGAGT\n",
            "GCCTTCGATT\n",
            "GACTCCCATT\n",
            "GGCTGCCATG\n",
            "GGTTTCCATC\n",
            "GACTTCTATT\n",
            "GGGTTCCTTT\n",
            "GGCTGCCAGT\n",
            "GACTTCCGTT\n",
            "GGCAACCATT\n",
            "GGCTTCCCAT\n",
            "GGCGTCCATA\n",
            "GGATTTCATT\n",
            "TGCTTTCATT\n",
            "GGCGTCCAAT\n",
            "GGGTTCCACT\n",
            "GACTACCATT\n",
            "GGCTTCCACA\n",
            "GGCATTCATT\n",
            "GGCTTATATT\n",
            "TGCATCCATT\n",
            "AGGTTCCATT\n",
            "GCCTTCCACT\n",
            "GGTTCCCATT\n",
            "GGCTTTCATC\n",
            "GCCTTCCCTT\n",
            "GGCTACCAGT\n",
            "GGTTACCATT\n",
            "GGCTGCCTTT\n",
            "GGCTTCAGTT\n",
            "GGCTTCTGTT\n",
            "AGCTTCCATT\n",
            "GGATTCCACT\n",
            "GGCATCTATT\n",
            "GGATTCCTTT\n",
            "ATCTTCCATT\n",
            "GGCTTGAATT\n",
            "GACTTCCACT\n",
            "AGCTGCCATT\n",
            "GCATTCCATT\n",
            "GGCGTCCATC\n",
            "AGCTTCCTTT\n",
            "GGCTTTCCTT\n",
            "GGCTTCTCTT\n",
            "GACTTCCATC\n",
            "GACTGCCATT\n",
            "GGCTTTCAGT\n",
            "GGTTTCCACT\n",
            "GGATTCCCTT\n",
            "GGCTGCTATT\n",
            "GGCTTCCAGT\n",
            "GGCTGCGATT\n",
            "GGGTTCCATG\n",
            "GGCTTCCAAC\n",
            "GGCATCCATG\n",
            "GGCGTCAATT\n",
            "AGCTTCCAGT\n",
            "TGCTTGCATT\n",
            "GGCTTCCAGC\n",
            "GGGTTACATT\n",
            "GGCTTCAAGT\n",
            "TGATTCCATT\n",
            "TGCTACCATT\n",
            "AGCTTCCATG\n",
            "CGCTCCCATT\n",
            "GGCCTCCATA\n",
            "GGCCGCCATT\n",
            "GGGATCCATT\n",
            "GGCTTCTTTT\n",
            "AGCTTCCACT\n",
            "GGCTTGCATA\n",
            "GGCTGCCAAT\n",
            "GGATTCCATC\n",
            "GGGTTCCGTT\n",
            "GGCTTCCGTT\n",
            "GGCGTTCATT\n",
            "GGCTTCCCTA\n",
            "GGCTGCCATT\n",
            "GGCTTCGATA\n",
            "TGCCTCCATT\n",
            "GGGTTGCATT\n",
            "GGCATCGATT\n",
            "GCCTTCCATA\n",
            "GTCTTCCACT\n",
            "AACTTCCATT\n",
            "AGCTTCCATC\n",
            "GGCCACCATT\n",
            "GGTTTACATT\n",
            "CGCTGCCATT\n",
            "GGCTTCCAAA\n",
            "GCCTTACATT\n",
            "GTCTGCCATT\n",
            "GGTTTCCAAT\n",
            "GGCTTAAATT\n",
            "GGCCTCCACT\n",
            "GGTTTCCGTT\n",
            "GGCTTGGATT\n",
            "GGCTTCCTTA\n",
            "GGCTTTCAAT\n",
            "GGCTTACATT\n",
            "GGATTCTATT\n",
            "CCCTTCCATT\n",
            "GGGTGCCATT\n",
            "GGCTTCCAGA\n",
            "GGCTCTCATT\n",
            "CGCTTCCCTT\n",
            "GGCTTCTATC\n",
            "TGCTTCCAAT\n",
            "GGCTTCCTAT\n",
            "GTCTTCCCTT\n",
            "TACTTCCATT\n",
            "GGTGTCCATT\n",
            "GGCTATCATT\n",
            "TGCTTCCATT\n",
            "GGCTTTCACT\n",
            "GGATGCCATT\n",
            "GTCTTCCATA\n",
            "GGCTACCATA\n",
            "CGGTTCCATT\n",
            "TGCTTCCGTT\n",
            "GGCGCCCATT\n",
            "GGTTTGCATT\n",
            "TGCTTCCACT\n",
            "GTCCTCCATT\n",
            "GGCATCCAAT\n",
            "GGCGTCGATT\n",
            "GGCTAACATT\n",
            "GGCTCCCATG\n",
            "GGGTCCCATT\n",
            "GGCTTTCATT\n",
            "GGCTCCCAAT\n",
            "GGCTCCTATT\n",
            "GGGTTCCCTT\n",
            "GGCTCCCTTT\n",
            "GGTTTCCATA\n",
            "GGCTCCCATC\n",
            "AGCTACCATT\n",
            "GGGCTCCATT\n",
            "GGCTACGATT\n",
            "AGTTTCCATT\n",
            "GGCTTCCCTC\n",
            "CGCTTCCGTT\n",
            "GGCTTCCGTA\n",
            "GGTTTCTATT\n",
            "GGTTTCCCTT\n",
            "TGCTTCCATA\n",
            "GGCTTCAACT\n",
            "GGCTACAATT\n",
            "GGTCTCCATT\n",
            "GGAGTCCATT\n",
            "CGCTTCAATT\n",
            "GTCGTCCATT\n",
            "GGCGTCCCTT\n",
            "CGCATCCATT\n",
            "GGCTTTCTTT\n",
            "CACTTCCATT\n",
            "GGCCTCTATT\n"
          ]
        }
      ]
    }
  ]
}